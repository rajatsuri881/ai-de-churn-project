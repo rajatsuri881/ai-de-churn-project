{
 "cells": [
  {
   "cell_type": "markdown",
   "id": "e2291557-87cf-4a96-82cb-29c4cebb5ee6",
   "metadata": {},
   "source": [
    "# AI-Powered Customer Churn Insights Platform\n",
    "\n",
    "## Environment Setup (Day 1)\n",
    "\n",
    "### Project Goals\n",
    "- Build an end-to-end data engineering and AI pipeline\n",
    "- Use Jupyter Notebook, SQLite, Pandas, Scikit-learn, DBT, and Streamlit\n",
    "- Keep it lightweight and free (optimized for a slower MacBook)\n",
    "\n",
    "---\n",
    "\n",
    "### Environment Setup Steps"
   ]
  },
  {
   "cell_type": "code",
   "execution_count": 1,
   "id": "6443389b-a228-49c7-b64d-092ddf2cf1fd",
   "metadata": {},
   "outputs": [
    {
     "name": "stdout",
     "output_type": "stream",
     "text": [
      "Requirement already satisfied: pandas in /Users/rajatsuri/opt/anaconda3/envs/ai_de_project/lib/python3.10/site-packages (2.2.3)\n",
      "Requirement already satisfied: numpy in /Users/rajatsuri/opt/anaconda3/envs/ai_de_project/lib/python3.10/site-packages (2.2.6)\n",
      "Requirement already satisfied: matplotlib in /Users/rajatsuri/opt/anaconda3/envs/ai_de_project/lib/python3.10/site-packages (3.10.3)\n",
      "Requirement already satisfied: seaborn in /Users/rajatsuri/opt/anaconda3/envs/ai_de_project/lib/python3.10/site-packages (0.13.2)\n",
      "Requirement already satisfied: python-dateutil>=2.8.2 in /Users/rajatsuri/opt/anaconda3/envs/ai_de_project/lib/python3.10/site-packages (from pandas) (2.9.0.post0)\n",
      "Requirement already satisfied: pytz>=2020.1 in /Users/rajatsuri/opt/anaconda3/envs/ai_de_project/lib/python3.10/site-packages (from pandas) (2025.2)\n",
      "Requirement already satisfied: tzdata>=2022.7 in /Users/rajatsuri/opt/anaconda3/envs/ai_de_project/lib/python3.10/site-packages (from pandas) (2025.2)\n",
      "Requirement already satisfied: contourpy>=1.0.1 in /Users/rajatsuri/opt/anaconda3/envs/ai_de_project/lib/python3.10/site-packages (from matplotlib) (1.3.2)\n",
      "Requirement already satisfied: cycler>=0.10 in /Users/rajatsuri/opt/anaconda3/envs/ai_de_project/lib/python3.10/site-packages (from matplotlib) (0.12.1)\n",
      "Requirement already satisfied: fonttools>=4.22.0 in /Users/rajatsuri/opt/anaconda3/envs/ai_de_project/lib/python3.10/site-packages (from matplotlib) (4.58.1)\n",
      "Requirement already satisfied: kiwisolver>=1.3.1 in /Users/rajatsuri/opt/anaconda3/envs/ai_de_project/lib/python3.10/site-packages (from matplotlib) (1.4.8)\n",
      "Requirement already satisfied: packaging>=20.0 in /Users/rajatsuri/opt/anaconda3/envs/ai_de_project/lib/python3.10/site-packages (from matplotlib) (25.0)\n",
      "Requirement already satisfied: pillow>=8 in /Users/rajatsuri/opt/anaconda3/envs/ai_de_project/lib/python3.10/site-packages (from matplotlib) (11.2.1)\n",
      "Requirement already satisfied: pyparsing>=2.3.1 in /Users/rajatsuri/opt/anaconda3/envs/ai_de_project/lib/python3.10/site-packages (from matplotlib) (3.2.3)\n",
      "Requirement already satisfied: six>=1.5 in /Users/rajatsuri/opt/anaconda3/envs/ai_de_project/lib/python3.10/site-packages (from python-dateutil>=2.8.2->pandas) (1.17.0)\n"
     ]
    }
   ],
   "source": [
    "!pip install pandas numpy matplotlib seaborn"
   ]
  },
  {
   "cell_type": "markdown",
   "id": "9b9d4b09-b6f5-48a5-9ddb-582b084d8992",
   "metadata": {},
   "source": [
    "### Package Checklist\n",
    "\n",
    "✅ Python 3.10  \n",
    "✅ Jupyter Notebook  \n",
    "✅ pandas  \n",
    "✅ numpy  \n",
    "✅ matplotlib  \n",
    "✅ seaborn  \n",
    "✅ sqlite3 (built-in with Python)\n",
    "\n",
    "---\n",
    "\n",
    "### Next Steps (Day 2 Preview)\n",
    "\n",
    "- Download and load the Telco Customer Churn dataset\n",
    "- Explore the dataset with Pandas"
   ]
  },
  {
   "cell_type": "code",
   "execution_count": null,
   "id": "d21fca3e-0c9d-4dab-81c3-11f014dca4f6",
   "metadata": {},
   "outputs": [],
   "source": []
  }
 ],
 "metadata": {
  "kernelspec": {
   "display_name": "Python (ai_de_project)",
   "language": "python",
   "name": "ai_de_project"
  },
  "language_info": {
   "codemirror_mode": {
    "name": "ipython",
    "version": 3
   },
   "file_extension": ".py",
   "mimetype": "text/x-python",
   "name": "python",
   "nbconvert_exporter": "python",
   "pygments_lexer": "ipython3",
   "version": "3.10.17"
  }
 },
 "nbformat": 4,
 "nbformat_minor": 5
}
